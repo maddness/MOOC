{
 "cells": [
  {
   "cell_type": "code",
   "execution_count": 27,
   "metadata": {
    "collapsed": false
   },
   "outputs": [
    {
     "data": {
      "text/html": [
       "<div>\n",
       "<table border=\"1\" class=\"dataframe\">\n",
       "  <thead>\n",
       "    <tr style=\"text-align: right;\">\n",
       "      <th></th>\n",
       "      <th>true</th>\n",
       "      <th>pred</th>\n",
       "    </tr>\n",
       "  </thead>\n",
       "  <tbody>\n",
       "    <tr>\n",
       "      <th>0</th>\n",
       "      <td>1</td>\n",
       "      <td>0</td>\n",
       "    </tr>\n",
       "    <tr>\n",
       "      <th>1</th>\n",
       "      <td>1</td>\n",
       "      <td>1</td>\n",
       "    </tr>\n",
       "    <tr>\n",
       "      <th>2</th>\n",
       "      <td>1</td>\n",
       "      <td>1</td>\n",
       "    </tr>\n",
       "    <tr>\n",
       "      <th>3</th>\n",
       "      <td>0</td>\n",
       "      <td>0</td>\n",
       "    </tr>\n",
       "    <tr>\n",
       "      <th>4</th>\n",
       "      <td>1</td>\n",
       "      <td>1</td>\n",
       "    </tr>\n",
       "  </tbody>\n",
       "</table>\n",
       "</div>"
      ],
      "text/plain": [
       "   true  pred\n",
       "0     1     0\n",
       "1     1     1\n",
       "2     1     1\n",
       "3     0     0\n",
       "4     1     1"
      ]
     },
     "execution_count": 27,
     "metadata": {},
     "output_type": "execute_result"
    }
   ],
   "source": [
    "import pandas as pd\n",
    "from  sklearn import metrics\n",
    "\n",
    "df = pd.read_csv('classification.csv')\n",
    "\n",
    "df.head()"
   ]
  },
  {
   "cell_type": "code",
   "execution_count": 38,
   "metadata": {
    "collapsed": false
   },
   "outputs": [
    {
     "name": "stdout",
     "output_type": "stream",
     "text": [
      "43 34 59 64\n"
     ]
    }
   ],
   "source": [
    "tp, fn, fp, tn = 0, 0, 0, 0\n",
    "\n",
    "for a, actual, pred in df.to_records():\n",
    "    if actual == pred == 1: tp += 1\n",
    "    if actual == pred == 0: tn += 1\n",
    "    if actual == 0 and pred == 1: fp += 1\n",
    "    if actual == 1 and pred == 0: fn += 1\n",
    "\n",
    "print(tp, fp, fn, tn)\n",
    "        \n",
    "f = open('met_0.txt','w')\n",
    "f.write('43 34 59 64') \n",
    "f.close()"
   ]
  },
  {
   "cell_type": "code",
   "execution_count": 28,
   "metadata": {
    "collapsed": false
   },
   "outputs": [
    {
     "name": "stdout",
     "output_type": "stream",
     "text": [
      "Accuracy:  0.535\n",
      "Precision:  0.558441558442\n",
      "Recall:  0.421568627451\n",
      "F1:  0.480446927374\n"
     ]
    }
   ],
   "source": [
    "print('Accuracy: ', metrics.accuracy_score(df['true'], df['pred']))\n",
    "print('Precision: ', metrics.precision_score(df['true'], df['pred']))\n",
    "print('Recall: ', metrics.recall_score(df['true'], df['pred']))\n",
    "print('F1: ', metrics.f1_score(df['true'], df['pred']))\n",
    "\n",
    "f = open('met_1.txt','w')\n",
    "f.write('0.54 0.56 0.42 0.48') \n",
    "f.close()"
   ]
  },
  {
   "cell_type": "code",
   "execution_count": 40,
   "metadata": {
    "collapsed": false
   },
   "outputs": [
    {
     "name": "stdout",
     "output_type": "stream",
     "text": [
      "Log. reg:  0.71918767507\n",
      "SVM:  0.708683473389\n",
      "kNN:  0.635154061625\n",
      "Tree:  0.691926770708\n"
     ]
    }
   ],
   "source": [
    "data = pd.read_csv('scores.csv')\n",
    "# print(data.head())\n",
    "\n",
    "y = data['true']\n",
    "\n",
    "print('Log. reg: ', metrics.roc_auc_score(y, data['score_logreg']))\n",
    "print('SVM: ', metrics.roc_auc_score(y, data['score_svm']))\n",
    "print('kNN: ', metrics.roc_auc_score(y, data['score_knn']))\n",
    "print('Tree: ', metrics.roc_auc_score(y, data['score_tree']))\n",
    "\n",
    "f = open('met_2.txt','w')\n",
    "f.write('score_logreg') \n",
    "f.close()"
   ]
  },
  {
   "cell_type": "code",
   "execution_count": 48,
   "metadata": {
    "collapsed": false
   },
   "outputs": [
    {
     "data": {
      "text/html": [
       "<div>\n",
       "<table border=\"1\" class=\"dataframe\">\n",
       "  <thead>\n",
       "    <tr style=\"text-align: right;\">\n",
       "      <th></th>\n",
       "      <th>0</th>\n",
       "      <th>1</th>\n",
       "      <th>2</th>\n",
       "      <th>3</th>\n",
       "      <th>4</th>\n",
       "      <th>5</th>\n",
       "      <th>6</th>\n",
       "      <th>7</th>\n",
       "      <th>8</th>\n",
       "      <th>9</th>\n",
       "      <th>...</th>\n",
       "      <th>188</th>\n",
       "      <th>189</th>\n",
       "      <th>190</th>\n",
       "      <th>191</th>\n",
       "      <th>192</th>\n",
       "      <th>193</th>\n",
       "      <th>194</th>\n",
       "      <th>195</th>\n",
       "      <th>196</th>\n",
       "      <th>197</th>\n",
       "    </tr>\n",
       "  </thead>\n",
       "  <tbody>\n",
       "    <tr>\n",
       "      <th>0</th>\n",
       "      <td>0.497462</td>\n",
       "      <td>0.494898</td>\n",
       "      <td>0.492308</td>\n",
       "      <td>0.494845</td>\n",
       "      <td>0.497409</td>\n",
       "      <td>0.494792</td>\n",
       "      <td>0.497382</td>\n",
       "      <td>0.494737</td>\n",
       "      <td>0.497354</td>\n",
       "      <td>0.500000</td>\n",
       "      <td>...</td>\n",
       "      <td>0.777778</td>\n",
       "      <td>0.750000</td>\n",
       "      <td>0.714286</td>\n",
       "      <td>0.666667</td>\n",
       "      <td>0.600000</td>\n",
       "      <td>0.750000</td>\n",
       "      <td>1.000000</td>\n",
       "      <td>1.000000</td>\n",
       "      <td>1.000000</td>\n",
       "      <td>1</td>\n",
       "    </tr>\n",
       "    <tr>\n",
       "      <th>1</th>\n",
       "      <td>1.000000</td>\n",
       "      <td>0.989796</td>\n",
       "      <td>0.979592</td>\n",
       "      <td>0.979592</td>\n",
       "      <td>0.979592</td>\n",
       "      <td>0.969388</td>\n",
       "      <td>0.969388</td>\n",
       "      <td>0.959184</td>\n",
       "      <td>0.959184</td>\n",
       "      <td>0.959184</td>\n",
       "      <td>...</td>\n",
       "      <td>0.071429</td>\n",
       "      <td>0.061224</td>\n",
       "      <td>0.051020</td>\n",
       "      <td>0.040816</td>\n",
       "      <td>0.030612</td>\n",
       "      <td>0.030612</td>\n",
       "      <td>0.030612</td>\n",
       "      <td>0.020408</td>\n",
       "      <td>0.010204</td>\n",
       "      <td>0</td>\n",
       "    </tr>\n",
       "    <tr>\n",
       "      <th>2</th>\n",
       "      <td>0.070739</td>\n",
       "      <td>0.074923</td>\n",
       "      <td>0.086688</td>\n",
       "      <td>0.096733</td>\n",
       "      <td>0.101603</td>\n",
       "      <td>0.108506</td>\n",
       "      <td>0.117658</td>\n",
       "      <td>0.137813</td>\n",
       "      <td>0.138797</td>\n",
       "      <td>0.139615</td>\n",
       "      <td>...</td>\n",
       "      <td>0.924542</td>\n",
       "      <td>0.926317</td>\n",
       "      <td>0.931500</td>\n",
       "      <td>0.936342</td>\n",
       "      <td>0.956966</td>\n",
       "      <td>0.961081</td>\n",
       "      <td>0.963559</td>\n",
       "      <td>0.964515</td>\n",
       "      <td>0.973079</td>\n",
       "      <td>NaN</td>\n",
       "    </tr>\n",
       "  </tbody>\n",
       "</table>\n",
       "<p>3 rows × 198 columns</p>\n",
       "</div>"
      ],
      "text/plain": [
       "        0         1         2         3         4         5         6    \\\n",
       "0  0.497462  0.494898  0.492308  0.494845  0.497409  0.494792  0.497382   \n",
       "1  1.000000  0.989796  0.979592  0.979592  0.979592  0.969388  0.969388   \n",
       "2  0.070739  0.074923  0.086688  0.096733  0.101603  0.108506  0.117658   \n",
       "\n",
       "        7         8         9   ...        188       189       190       191  \\\n",
       "0  0.494737  0.497354  0.500000 ...   0.777778  0.750000  0.714286  0.666667   \n",
       "1  0.959184  0.959184  0.959184 ...   0.071429  0.061224  0.051020  0.040816   \n",
       "2  0.137813  0.138797  0.139615 ...   0.924542  0.926317  0.931500  0.936342   \n",
       "\n",
       "        192       193       194       195       196  197  \n",
       "0  0.600000  0.750000  1.000000  1.000000  1.000000    1  \n",
       "1  0.030612  0.030612  0.030612  0.020408  0.010204    0  \n",
       "2  0.956966  0.961081  0.963559  0.964515  0.973079  NaN  \n",
       "\n",
       "[3 rows x 198 columns]"
      ]
     },
     "execution_count": 48,
     "metadata": {},
     "output_type": "execute_result"
    }
   ],
   "source": [
    "log_curve = pd.DataFrame(list(metrics.precision_recall_curve(y, data['score_logreg'])), )\n",
    "\n",
    "log_curve.head()\n",
    "# list(metrics.precision_recall_curve(y, data['score_logreg']))"
   ]
  }
 ],
 "metadata": {
  "kernelspec": {
   "display_name": "Python 3",
   "language": "python",
   "name": "python3"
  },
  "language_info": {
   "codemirror_mode": {
    "name": "ipython",
    "version": 3
   },
   "file_extension": ".py",
   "mimetype": "text/x-python",
   "name": "python",
   "nbconvert_exporter": "python",
   "pygments_lexer": "ipython3",
   "version": "3.5.1"
  }
 },
 "nbformat": 4,
 "nbformat_minor": 0
}
