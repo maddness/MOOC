{
 "cells": [
  {
   "cell_type": "code",
   "execution_count": 2,
   "metadata": {
    "collapsed": false
   },
   "outputs": [],
   "source": [
    "from sklearn import datasets\n",
    "\n",
    "newsgroups = datasets.fetch_20newsgroups(subset='all', categories=['alt.atheism', 'sci.space'])\n"
   ]
  },
  {
   "cell_type": "code",
   "execution_count": 25,
   "metadata": {
    "collapsed": false
   },
   "outputs": [
    {
     "data": {
      "text/plain": [
       "[mean: 0.55263, std: 0.02145, params: {'C': 0.01},\n",
       " mean: 0.94793, std: 0.00416, params: {'C': 0.1},\n",
       " mean: 0.99272, std: 0.00335, params: {'C': 1},\n",
       " mean: 0.99272, std: 0.00335, params: {'C': 10},\n",
       " mean: 0.99272, std: 0.00335, params: {'C': 100}]"
      ]
     },
     "execution_count": 25,
     "metadata": {},
     "output_type": "execute_result"
    }
   ],
   "source": [
    "from sklearn.feature_extraction.text import TfidfVectorizer\n",
    "from sklearn.svm import SVC\n",
    "from sklearn.cross_validation import KFold\n",
    "\n",
    "vect = TfidfVectorizer()\n",
    "X_vect = vect.fit_transform(newsgroups.data)\n",
    "y = newsgroups.target\n",
    "\n",
    "svr = SVC(random_state=241, kernel='linear')\n",
    "kf = KFold(len(newsgroups.data[:]), n_folds=5, shuffle=True)\n",
    "\n",
    "from sklearn.grid_search import GridSearchCV\n",
    "clf = GridSearchCV(estimator=svr, param_grid={'C': [10**i for i in range(-2, 3)]}, cv=kf, n_jobs=-1)\n",
    "clf.fit(X_vect, y)\n",
    "\n",
    "clf.grid_scores_\n"
   ]
  },
  {
   "cell_type": "code",
   "execution_count": 8,
   "metadata": {
    "collapsed": false,
    "scrolled": true
   },
   "outputs": [
    {
     "data": {
      "text/plain": [
       "'atheism,atheists,bible,god,keith,moon,nick,religion,sky,space'"
      ]
     },
     "execution_count": 8,
     "metadata": {},
     "output_type": "execute_result"
    }
   ],
   "source": [
    "import numpy as np\n",
    "import pandas as pd\n",
    "\n",
    "clf2 = SVC(kernel='linear', C=10, random_state=241)\n",
    "clf2.fit(X_vect, y)\n",
    "\n",
    "coeff = pd.Series(clf2.coef_.toarray()[0])\n",
    "index_list = coeff.abs().sort_values(ascending=False).index[:10]\n",
    "\n",
    "words = []\n",
    "\n",
    "for i in index_list:\n",
    "    words.append(vect.get_feature_names()[i])  \n",
    "    \n",
    "','.join(sorted(words))"
   ]
  },
  {
   "cell_type": "code",
   "execution_count": 9,
   "metadata": {
    "collapsed": true
   },
   "outputs": [],
   "source": [
    "f = open('god.txt','w')\n",
    "f.write('atheism,atheists,bible,god,keith,moon,nick,religion,sky,space') \n",
    "f.close()"
   ]
  }
 ],
 "metadata": {
  "kernelspec": {
   "display_name": "Python 3",
   "language": "python",
   "name": "python3"
  },
  "language_info": {
   "codemirror_mode": {
    "name": "ipython",
    "version": 3
   },
   "file_extension": ".py",
   "mimetype": "text/x-python",
   "name": "python",
   "nbconvert_exporter": "python",
   "pygments_lexer": "ipython3",
   "version": "3.5.1"
  }
 },
 "nbformat": 4,
 "nbformat_minor": 0
}
