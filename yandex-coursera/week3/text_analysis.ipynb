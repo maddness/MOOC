{
 "cells": [
  {
   "cell_type": "code",
   "execution_count": 13,
   "metadata": {
    "collapsed": false
   },
   "outputs": [
    {
     "data": {
      "text/plain": [
       "array([0, 0, 1, ..., 1, 1, 0])"
      ]
     },
     "execution_count": 13,
     "metadata": {},
     "output_type": "execute_result"
    }
   ],
   "source": [
    "from sklearn import datasets\n",
    "\n",
    "newsgroups = datasets.fetch_20newsgroups(subset='all', categories=['alt.atheism', 'sci.space'])\n",
    "\n",
    "newsgroups.target"
   ]
  },
  {
   "cell_type": "code",
   "execution_count": 60,
   "metadata": {
    "collapsed": false
   },
   "outputs": [
    {
     "data": {
      "text/plain": [
       "{'C': 1}"
      ]
     },
     "execution_count": 60,
     "metadata": {},
     "output_type": "execute_result"
    }
   ],
   "source": [
    "from sklearn.feature_extraction.text import TfidfVectorizer\n",
    "from sklearn.svm import SVC\n",
    "from sklearn.cross_validation import KFold\n",
    "\n",
    "vect = TfidfVectorizer()\n",
    "X_vect = vect.fit_transform(newsgroups.data)\n",
    "y = newsgroups.target\n",
    "\n",
    "svr = SVC(random_state=241, kernel='linear')\n",
    "kf = KFold(len(newsgroups.data), n_folds=5, shuffle=True, random_state=42)\n",
    "\n",
    "param_grid = {'C': [10**i for i in range(-5, 6)]}\n",
    "\n",
    "from sklearn.grid_search import GridSearchCV\n",
    "clf = GridSearchCV(svr, param_grid, cv=kf)\n",
    "clf.fit(X_vect, y)\n",
    "\n",
    "clf.best_params_\n"
   ]
  },
  {
   "cell_type": "code",
   "execution_count": 75,
   "metadata": {
    "collapsed": false,
    "scrolled": true
   },
   "outputs": [
    {
     "data": {
      "text/plain": [
       "array([ 7597, 22936, 15606,  5776, 21850, 23673, 17802,  5093,  5088,\n",
       "       12871, 24019])"
      ]
     },
     "execution_count": 75,
     "metadata": {},
     "output_type": "execute_result"
    }
   ],
   "source": [
    "import numpy as np\n",
    "\n",
    "clf2 = SVC(random_state=241, kernel='linear', C=1)\n",
    "clf2.fit(X_vect, y)\n",
    "\n",
    "np.argsort(np.absolute(np.asarray(clf2.coef_.todense()).reshape(-1)))[-11:]"
   ]
  },
  {
   "cell_type": "code",
   "execution_count": 76,
   "metadata": {
    "collapsed": false
   },
   "outputs": [
    {
     "name": "stdout",
     "output_type": "stream",
     "text": [
      "cobb\n",
      "sci\n",
      "keith\n",
      "bible\n",
      "religion\n",
      "sky\n",
      "moon\n",
      "atheists\n",
      "atheism\n",
      "god\n",
      "space\n"
     ]
    }
   ],
   "source": [
    "for i in [ 7597, 22936, 15606,  5776, 21850, 23673, 17802,  5093,  5088,\n",
    "       12871, 24019]:\n",
    "    print vect.get_feature_names()[i]\n"
   ]
  }
 ],
 "metadata": {
  "kernelspec": {
   "display_name": "Python 2",
   "language": "python",
   "name": "python2"
  },
  "language_info": {
   "codemirror_mode": {
    "name": "ipython",
    "version": 2
   },
   "file_extension": ".py",
   "mimetype": "text/x-python",
   "name": "python",
   "nbconvert_exporter": "python",
   "pygments_lexer": "ipython2",
   "version": "2.7.11"
  }
 },
 "nbformat": 4,
 "nbformat_minor": 0
}
