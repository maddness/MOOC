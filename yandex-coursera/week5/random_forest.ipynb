{
 "cells": [
  {
   "cell_type": "code",
   "execution_count": 47,
   "metadata": {
    "collapsed": false
   },
   "outputs": [
    {
     "data": {
      "text/html": [
       "<div>\n",
       "<table border=\"1\" class=\"dataframe\">\n",
       "  <thead>\n",
       "    <tr style=\"text-align: right;\">\n",
       "      <th></th>\n",
       "      <th>Sex</th>\n",
       "      <th>Length</th>\n",
       "      <th>Diameter</th>\n",
       "      <th>Height</th>\n",
       "      <th>WholeWeight</th>\n",
       "      <th>ShuckedWeight</th>\n",
       "      <th>VisceraWeight</th>\n",
       "      <th>ShellWeight</th>\n",
       "      <th>Rings</th>\n",
       "    </tr>\n",
       "  </thead>\n",
       "  <tbody>\n",
       "    <tr>\n",
       "      <th>0</th>\n",
       "      <td>M</td>\n",
       "      <td>0.455</td>\n",
       "      <td>0.365</td>\n",
       "      <td>0.095</td>\n",
       "      <td>0.5140</td>\n",
       "      <td>0.2245</td>\n",
       "      <td>0.1010</td>\n",
       "      <td>0.150</td>\n",
       "      <td>15</td>\n",
       "    </tr>\n",
       "    <tr>\n",
       "      <th>1</th>\n",
       "      <td>M</td>\n",
       "      <td>0.350</td>\n",
       "      <td>0.265</td>\n",
       "      <td>0.090</td>\n",
       "      <td>0.2255</td>\n",
       "      <td>0.0995</td>\n",
       "      <td>0.0485</td>\n",
       "      <td>0.070</td>\n",
       "      <td>7</td>\n",
       "    </tr>\n",
       "    <tr>\n",
       "      <th>2</th>\n",
       "      <td>F</td>\n",
       "      <td>0.530</td>\n",
       "      <td>0.420</td>\n",
       "      <td>0.135</td>\n",
       "      <td>0.6770</td>\n",
       "      <td>0.2565</td>\n",
       "      <td>0.1415</td>\n",
       "      <td>0.210</td>\n",
       "      <td>9</td>\n",
       "    </tr>\n",
       "    <tr>\n",
       "      <th>3</th>\n",
       "      <td>M</td>\n",
       "      <td>0.440</td>\n",
       "      <td>0.365</td>\n",
       "      <td>0.125</td>\n",
       "      <td>0.5160</td>\n",
       "      <td>0.2155</td>\n",
       "      <td>0.1140</td>\n",
       "      <td>0.155</td>\n",
       "      <td>10</td>\n",
       "    </tr>\n",
       "    <tr>\n",
       "      <th>4</th>\n",
       "      <td>I</td>\n",
       "      <td>0.330</td>\n",
       "      <td>0.255</td>\n",
       "      <td>0.080</td>\n",
       "      <td>0.2050</td>\n",
       "      <td>0.0895</td>\n",
       "      <td>0.0395</td>\n",
       "      <td>0.055</td>\n",
       "      <td>7</td>\n",
       "    </tr>\n",
       "  </tbody>\n",
       "</table>\n",
       "</div>"
      ],
      "text/plain": [
       "  Sex  Length  Diameter  Height  WholeWeight  ShuckedWeight  VisceraWeight  \\\n",
       "0   M   0.455     0.365   0.095       0.5140         0.2245         0.1010   \n",
       "1   M   0.350     0.265   0.090       0.2255         0.0995         0.0485   \n",
       "2   F   0.530     0.420   0.135       0.6770         0.2565         0.1415   \n",
       "3   M   0.440     0.365   0.125       0.5160         0.2155         0.1140   \n",
       "4   I   0.330     0.255   0.080       0.2050         0.0895         0.0395   \n",
       "\n",
       "   ShellWeight  Rings  \n",
       "0        0.150     15  \n",
       "1        0.070      7  \n",
       "2        0.210      9  \n",
       "3        0.155     10  \n",
       "4        0.055      7  "
      ]
     },
     "execution_count": 47,
     "metadata": {},
     "output_type": "execute_result"
    }
   ],
   "source": [
    "import pandas as pd\n",
    "\n",
    "df = pd.read_csv('abalone.csv')\n",
    "df.head()"
   ]
  },
  {
   "cell_type": "code",
   "execution_count": 48,
   "metadata": {
    "collapsed": false
   },
   "outputs": [
    {
     "data": {
      "text/html": [
       "<div>\n",
       "<table border=\"1\" class=\"dataframe\">\n",
       "  <thead>\n",
       "    <tr style=\"text-align: right;\">\n",
       "      <th></th>\n",
       "      <th>Sex</th>\n",
       "      <th>Length</th>\n",
       "      <th>Diameter</th>\n",
       "      <th>Height</th>\n",
       "      <th>WholeWeight</th>\n",
       "      <th>ShuckedWeight</th>\n",
       "      <th>VisceraWeight</th>\n",
       "      <th>ShellWeight</th>\n",
       "      <th>Rings</th>\n",
       "    </tr>\n",
       "  </thead>\n",
       "  <tbody>\n",
       "    <tr>\n",
       "      <th>0</th>\n",
       "      <td>1</td>\n",
       "      <td>0.455</td>\n",
       "      <td>0.365</td>\n",
       "      <td>0.095</td>\n",
       "      <td>0.5140</td>\n",
       "      <td>0.2245</td>\n",
       "      <td>0.1010</td>\n",
       "      <td>0.150</td>\n",
       "      <td>15</td>\n",
       "    </tr>\n",
       "    <tr>\n",
       "      <th>1</th>\n",
       "      <td>1</td>\n",
       "      <td>0.350</td>\n",
       "      <td>0.265</td>\n",
       "      <td>0.090</td>\n",
       "      <td>0.2255</td>\n",
       "      <td>0.0995</td>\n",
       "      <td>0.0485</td>\n",
       "      <td>0.070</td>\n",
       "      <td>7</td>\n",
       "    </tr>\n",
       "    <tr>\n",
       "      <th>2</th>\n",
       "      <td>-1</td>\n",
       "      <td>0.530</td>\n",
       "      <td>0.420</td>\n",
       "      <td>0.135</td>\n",
       "      <td>0.6770</td>\n",
       "      <td>0.2565</td>\n",
       "      <td>0.1415</td>\n",
       "      <td>0.210</td>\n",
       "      <td>9</td>\n",
       "    </tr>\n",
       "    <tr>\n",
       "      <th>3</th>\n",
       "      <td>1</td>\n",
       "      <td>0.440</td>\n",
       "      <td>0.365</td>\n",
       "      <td>0.125</td>\n",
       "      <td>0.5160</td>\n",
       "      <td>0.2155</td>\n",
       "      <td>0.1140</td>\n",
       "      <td>0.155</td>\n",
       "      <td>10</td>\n",
       "    </tr>\n",
       "    <tr>\n",
       "      <th>4</th>\n",
       "      <td>0</td>\n",
       "      <td>0.330</td>\n",
       "      <td>0.255</td>\n",
       "      <td>0.080</td>\n",
       "      <td>0.2050</td>\n",
       "      <td>0.0895</td>\n",
       "      <td>0.0395</td>\n",
       "      <td>0.055</td>\n",
       "      <td>7</td>\n",
       "    </tr>\n",
       "  </tbody>\n",
       "</table>\n",
       "</div>"
      ],
      "text/plain": [
       "   Sex  Length  Diameter  Height  WholeWeight  ShuckedWeight  VisceraWeight  \\\n",
       "0    1   0.455     0.365   0.095       0.5140         0.2245         0.1010   \n",
       "1    1   0.350     0.265   0.090       0.2255         0.0995         0.0485   \n",
       "2   -1   0.530     0.420   0.135       0.6770         0.2565         0.1415   \n",
       "3    1   0.440     0.365   0.125       0.5160         0.2155         0.1140   \n",
       "4    0   0.330     0.255   0.080       0.2050         0.0895         0.0395   \n",
       "\n",
       "   ShellWeight  Rings  \n",
       "0        0.150     15  \n",
       "1        0.070      7  \n",
       "2        0.210      9  \n",
       "3        0.155     10  \n",
       "4        0.055      7  "
      ]
     },
     "execution_count": 48,
     "metadata": {},
     "output_type": "execute_result"
    }
   ],
   "source": [
    "sex_map = {'F':-1, 'I':0, 'M':1}\n",
    "df.Sex = df.Sex.map(sex_map)\n",
    "\n",
    "df.head()"
   ]
  },
  {
   "cell_type": "code",
   "execution_count": 58,
   "metadata": {
    "collapsed": false
   },
   "outputs": [
    {
     "data": {
      "text/plain": [
       "GridSearchCV(cv=sklearn.cross_validation.KFold(n=5, n_folds=3, shuffle=True, random_state=1),\n",
       "       error_score='raise',\n",
       "       estimator=RandomForestRegressor(bootstrap=True, criterion='mse', max_depth=None,\n",
       "           max_features='auto', max_leaf_nodes=None, min_samples_leaf=1,\n",
       "           min_samples_split=2, min_weight_fraction_leaf=0.0,\n",
       "           n_estimators=10, n_jobs=1, oob_score=False, random_state=1,\n",
       "           verbose=0, warm_start=False),\n",
       "       fit_params={}, iid=True, n_jobs=-1,\n",
       "       param_grid={'n_estimators': [1, 2, 3, 4, 5, 6, 7, 8, 9, 10, 11, 12, 13, 14, 15, 16, 17, 18, 19, 20, 21, 22, 23, 24, 25, 26, 27, 28, 29, 30, 31, 32, 33, 34, 35, 36, 37, 38, 39, 40, 41, 42, 43, 44, 45, 46, 47, 48, 49, 50]},\n",
       "       pre_dispatch='2*n_jobs', refit=True, scoring='r2', verbose=0)"
      ]
     },
     "execution_count": 58,
     "metadata": {},
     "output_type": "execute_result"
    }
   ],
   "source": [
    "from sklearn.grid_search import GridSearchCV\n",
    "from sklearn.ensemble import RandomForestRegressor\n",
    "from sklearn.cross_validation import KFold\n",
    "\n",
    "clf = RandomForestRegressor(random_state=1)\n",
    "params = {'n_estimators': [i for i in range(1, 51)]}\n",
    "\n",
    "kf = KFold(n=5, random_state=1, shuffle=True)\n",
    "\n",
    "y = df.Rings\n",
    "X = df.drop('Rings', axis=1)\n",
    "\n",
    "grid = GridSearchCV(estimator=clf, param_grid=params, cv=kf, n_jobs=-1, scoring='r2')\n",
    "grid.fit(X, y)"
   ]
  },
  {
   "cell_type": "code",
   "execution_count": 61,
   "metadata": {
    "collapsed": false
   },
   "outputs": [
    {
     "data": {
      "text/plain": [
       "[mean: -20.00000, std: 22.86676, params: {'n_estimators': 1},\n",
       " mean: -15.06250, std: 17.37703, params: {'n_estimators': 2},\n",
       " mean: -6.82500, std: 7.84287, params: {'n_estimators': 3},\n",
       " mean: -4.63203, std: 5.33646, params: {'n_estimators': 4},\n",
       " mean: -2.66850, std: 3.05252, params: {'n_estimators': 5},\n",
       " mean: -1.78785, std: 2.03076, params: {'n_estimators': 6},\n",
       " mean: -1.58622, std: 1.83611, params: {'n_estimators': 7},\n",
       " mean: -2.34727, std: 2.73251, params: {'n_estimators': 8},\n",
       " mean: -2.20448, std: 2.59009, params: {'n_estimators': 9},\n",
       " mean: -2.77913, std: 3.26264, params: {'n_estimators': 10},\n",
       " mean: -3.02944, std: 3.55326, params: {'n_estimators': 11},\n",
       " mean: -2.55113, std: 2.99473, params: {'n_estimators': 12},\n",
       " mean: -2.17641, std: 2.55642, params: {'n_estimators': 13},\n",
       " mean: -2.12634, std: 2.48644, params: {'n_estimators': 14},\n",
       " mean: -2.35122, std: 2.76603, params: {'n_estimators': 15},\n",
       " mean: -1.91426, std: 2.25287, params: {'n_estimators': 16},\n",
       " mean: -1.69455, std: 1.99506, params: {'n_estimators': 17},\n",
       " mean: -2.22569, std: 2.59183, params: {'n_estimators': 18},\n",
       " mean: -2.23064, std: 2.60995, params: {'n_estimators': 19},\n",
       " mean: -2.25706, std: 2.65191, params: {'n_estimators': 20},\n",
       " mean: -2.46468, std: 2.89454, params: {'n_estimators': 21},\n",
       " mean: -2.47823, std: 2.91966, params: {'n_estimators': 22},\n",
       " mean: -2.91089, std: 3.40561, params: {'n_estimators': 23},\n",
       " mean: -3.06081, std: 3.59117, params: {'n_estimators': 24},\n",
       " mean: -3.21076, std: 3.76604, params: {'n_estimators': 25},\n",
       " mean: -3.36557, std: 3.92740, params: {'n_estimators': 26},\n",
       " mean: -3.35207, std: 3.91979, params: {'n_estimators': 27},\n",
       " mean: -3.49383, std: 4.06450, params: {'n_estimators': 28},\n",
       " mean: -3.27237, std: 3.80731, params: {'n_estimators': 29},\n",
       " mean: -3.07179, std: 3.57425, params: {'n_estimators': 30},\n",
       " mean: -3.39377, std: 3.93683, params: {'n_estimators': 31},\n",
       " mean: -3.19865, std: 3.71039, params: {'n_estimators': 32},\n",
       " mean: -3.20409, std: 3.72447, params: {'n_estimators': 33},\n",
       " mean: -3.21498, std: 3.74445, params: {'n_estimators': 34},\n",
       " mean: -3.04736, std: 3.54956, params: {'n_estimators': 35},\n",
       " mean: -3.14198, std: 3.64652, params: {'n_estimators': 36},\n",
       " mean: -3.15261, std: 3.66575, params: {'n_estimators': 37},\n",
       " mean: -3.16708, std: 3.68911, params: {'n_estimators': 38},\n",
       " mean: -3.41674, std: 3.96978, params: {'n_estimators': 39},\n",
       " mean: -3.51238, std: 4.08227, params: {'n_estimators': 40},\n",
       " mean: -3.52048, std: 4.09779, params: {'n_estimators': 41},\n",
       " mean: -3.53144, std: 4.11637, params: {'n_estimators': 42},\n",
       " mean: -3.54485, std: 4.13753, params: {'n_estimators': 43},\n",
       " mean: -3.30405, std: 3.85608, params: {'n_estimators': 44},\n",
       " mean: -3.32309, std: 3.88347, params: {'n_estimators': 45},\n",
       " mean: -3.27717, std: 3.83407, params: {'n_estimators': 46},\n",
       " mean: -3.36227, std: 3.93350, params: {'n_estimators': 47},\n",
       " mean: -3.56252, std: 4.15814, params: {'n_estimators': 48},\n",
       " mean: -3.43021, std: 4.00437, params: {'n_estimators': 49},\n",
       " mean: -3.22450, std: 3.76393, params: {'n_estimators': 50}]"
      ]
     },
     "execution_count": 61,
     "metadata": {},
     "output_type": "execute_result"
    }
   ],
   "source": [
    "grid.grid_scores_"
   ]
  },
  {
   "cell_type": "code",
   "execution_count": null,
   "metadata": {
    "collapsed": true
   },
   "outputs": [],
   "source": []
  }
 ],
 "metadata": {
  "kernelspec": {
   "display_name": "Python 3",
   "language": "python",
   "name": "python3"
  },
  "language_info": {
   "codemirror_mode": {
    "name": "ipython",
    "version": 3
   },
   "file_extension": ".py",
   "mimetype": "text/x-python",
   "name": "python",
   "nbconvert_exporter": "python",
   "pygments_lexer": "ipython3",
   "version": "3.5.1"
  }
 },
 "nbformat": 4,
 "nbformat_minor": 0
}
