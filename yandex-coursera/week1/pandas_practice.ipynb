{
 "cells": [
  {
   "cell_type": "code",
   "execution_count": 132,
   "metadata": {
    "collapsed": false
   },
   "outputs": [
    {
     "data": {
      "text/plain": [
       "Index(['PassengerId', 'Survived', 'Pclass', 'Name', 'Sex', 'Age', 'SibSp',\n",
       "       'Parch', 'Ticket', 'Fare', 'Cabin', 'Embarked'],\n",
       "      dtype='object')"
      ]
     },
     "execution_count": 132,
     "metadata": {},
     "output_type": "execute_result"
    }
   ],
   "source": [
    "import pandas as pd\n",
    "\n",
    "df = pd.read_csv('titanic.csv')\n",
    "\n",
    "df.columns"
   ]
  },
  {
   "cell_type": "code",
   "execution_count": 140,
   "metadata": {
    "collapsed": false
   },
   "outputs": [
    {
     "data": {
      "text/plain": [
       "male      577\n",
       "female    314\n",
       "Name: Sex, dtype: int64"
      ]
     },
     "execution_count": 140,
     "metadata": {},
     "output_type": "execute_result"
    }
   ],
   "source": [
    "df.Sex.value_counts()"
   ]
  },
  {
   "cell_type": "code",
   "execution_count": 134,
   "metadata": {
    "collapsed": false
   },
   "outputs": [
    {
     "data": {
      "text/plain": [
       "0    549\n",
       "1    342\n",
       "Name: Survived, dtype: int64"
      ]
     },
     "execution_count": 134,
     "metadata": {},
     "output_type": "execute_result"
    }
   ],
   "source": [
    "df.Survived.value_counts()"
   ]
  },
  {
   "cell_type": "code",
   "execution_count": 135,
   "metadata": {
    "collapsed": false
   },
   "outputs": [
    {
     "data": {
      "text/plain": [
       "3    491\n",
       "1    216\n",
       "2    184\n",
       "Name: Pclass, dtype: int64"
      ]
     },
     "execution_count": 135,
     "metadata": {},
     "output_type": "execute_result"
    }
   ],
   "source": [
    "df.Pclass.value_counts()"
   ]
  },
  {
   "cell_type": "code",
   "execution_count": 138,
   "metadata": {
    "collapsed": false
   },
   "outputs": [
    {
     "name": "stdout",
     "output_type": "stream",
     "text": [
      "29.69911764705882\n",
      "28.0\n"
     ]
    }
   ],
   "source": [
    "print(df.Age.mean())\n",
    "print(df.Age.median())"
   ]
  },
  {
   "cell_type": "code",
   "execution_count": 139,
   "metadata": {
    "collapsed": false
   },
   "outputs": [
    {
     "data": {
      "text/plain": [
       "0.41483769862015629"
      ]
     },
     "execution_count": 139,
     "metadata": {},
     "output_type": "execute_result"
    }
   ],
   "source": [
    "df.SibSp.corr(df.Parch)"
   ]
  },
  {
   "cell_type": "code",
   "execution_count": 130,
   "metadata": {
    "collapsed": false
   },
   "outputs": [
    {
     "data": {
      "text/plain": [
       "Anna         14\n",
       "Mary         13\n",
       "Elizabeth    11\n",
       "Margaret     10\n",
       "Alice         6\n",
       "Bertha        5\n",
       "Helen         5\n",
       "Emily         4\n",
       "Maria         4\n",
       "Marie         4\n",
       "Augusta       4\n",
       "Florence      4\n",
       "Annie         4\n",
       "Ellen         4\n",
       "Ada           4\n",
       "Madeleine     3\n",
       "Marion        3\n",
       "Jane          3\n",
       "\"Mrs          3\n",
       "Lillian       3\n",
       "Ida           3\n",
       "Katherine     3\n",
       "Edith         3\n",
       "Hanora        3\n",
       "Elisabeth     3\n",
       "Amelia        3\n",
       "Catherine     3\n",
       "Johanna       2\n",
       "Constance     2\n",
       "Marjorie      2\n",
       "             ..\n",
       "Virginia      1\n",
       "Juliette      1\n",
       "Hulda         1\n",
       "Hileni        1\n",
       "Hildur        1\n",
       "Hilda         1\n",
       "Helmina       1\n",
       "Helena        1\n",
       "Hedwig)       1\n",
       "Juliet        1\n",
       "Karolina)     1\n",
       "Manca         1\n",
       "Leontine      1\n",
       "Malake        1\n",
       "Lyyli         1\n",
       "Lutie         1\n",
       "Lulu          1\n",
       "Luise         1\n",
       "Lucille       1\n",
       "Lilian        1\n",
       "Leila         1\n",
       "Katie         1\n",
       "Leah          1\n",
       "Laura         1\n",
       "Latifa        1\n",
       "Laina         1\n",
       "Kristina      1\n",
       "Kornelia      1\n",
       "Katriina      1\n",
       "\"Mary\")       1\n",
       "dtype: int64"
      ]
     },
     "execution_count": 130,
     "metadata": {},
     "output_type": "execute_result"
    }
   ],
   "source": [
    "def get_name(line):\n",
    "    part = line.split('.')[1].strip()\n",
    "    if '(' in part:\n",
    "        name = part.split('(')[1].split()[0]\n",
    "    else:\n",
    "        name = part.split()[0]\n",
    "    return name\n",
    "\n",
    "df2 = df[df.Sex == 'female'].Name.apply(get_name)\n",
    "\n",
    "df2.groupby(df2.values).count().sort_values(ascending=False)"
   ]
  }
 ],
 "metadata": {
  "kernelspec": {
   "display_name": "Python 3",
   "language": "python",
   "name": "python3"
  },
  "language_info": {
   "codemirror_mode": {
    "name": "ipython",
    "version": 3
   },
   "file_extension": ".py",
   "mimetype": "text/x-python",
   "name": "python",
   "nbconvert_exporter": "python",
   "pygments_lexer": "ipython3",
   "version": "3.5.1"
  }
 },
 "nbformat": 4,
 "nbformat_minor": 0
}
