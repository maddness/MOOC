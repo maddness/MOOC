{
 "cells": [
  {
   "cell_type": "code",
   "execution_count": 26,
   "metadata": {
    "collapsed": false
   },
   "outputs": [
    {
     "name": "stdout",
     "output_type": "stream",
     "text": [
      "1\t0\t{2,3,4}\n",
      "2\t1\t{}\n",
      "3\t1\t{}\n",
      "4\t1\t{}\n",
      "2\t1\t{5,6}\n",
      "5\t2\t{}\n",
      "6\t2\t{}\n",
      "3\t1\t{}\n",
      "4\t1\t{7,8}\n",
      "7\t2\t{}\n",
      "8\t2\t{}\n",
      "5\tINF\t{9,10}\n",
      "9\tINF\t{}\n",
      "10\tINF\t{}\n",
      "6\tINF\t{}\n",
      "7\tINF\t{}\n",
      "8\tINF\t{}\n",
      "9\tINF\t{}\n",
      "10\tINF\t{}"
     ]
    }
   ],
   "source": [
    "import re\n",
    "\n",
    "for line in open('bfs_map.txt'):\n",
    "    print(line, end='')\n",
    "    values = line.split('\\t')\n",
    "    nodes = re.findall(r'\\d+', values[2])\n",
    "    key, weight = int(values[0]), values[1]\n",
    "    for i in nodes:\n",
    "        new_weight = 'INF' if weight == 'INF' else int(weight)+1\n",
    "        print('{}\\t{}\\t{}'.format(i, new_weight, '{}'))\n",
    "    "
   ]
  }
 ],
 "metadata": {
  "kernelspec": {
   "display_name": "Python 3",
   "language": "python",
   "name": "python3"
  },
  "language_info": {
   "codemirror_mode": {
    "name": "ipython",
    "version": 3
   },
   "file_extension": ".py",
   "mimetype": "text/x-python",
   "name": "python",
   "nbconvert_exporter": "python",
   "pygments_lexer": "ipython3",
   "version": "3.5.1"
  }
 },
 "nbformat": 4,
 "nbformat_minor": 0
}
