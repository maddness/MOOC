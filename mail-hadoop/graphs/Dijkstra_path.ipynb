{
 "cells": [
  {
   "cell_type": "code",
   "execution_count": 43,
   "metadata": {
    "collapsed": false
   },
   "outputs": [
    {
     "data": {
      "text/plain": [
       "{'1_2': 6, '1_3': 5, '1_4': 10, '2_3': 3, '2_4': 1, '3_4': 8}"
      ]
     },
     "execution_count": 43,
     "metadata": {},
     "output_type": "execute_result"
    }
   ],
   "source": [
    "def edge_str(a, b):\n",
    "    return str(min(a,b)) + '_' + str(max(a,b))\n",
    "\n",
    "\n",
    "def to_int(vals):\n",
    "    return map(lambda x: int(x), vals)\n",
    "\n",
    "    \n",
    "f = open('input.txt')\n",
    "\n",
    "(nodes, edges) = to_int(f.readline().split())\n",
    "weights = {}\n",
    "\n",
    "for line in f:\n",
    "    data = line.split()\n",
    "    if len(data) == 3:\n",
    "        a, b, weight = to_int(data)\n",
    "        weights[edge_str(a, b)] = weight\n",
    "    else:\n",
    "        start, finish = to_int(data)\n",
    "        \n",
    "\n",
    "weights"
   ]
  },
  {
   "cell_type": "code",
   "execution_count": 64,
   "metadata": {
    "collapsed": false
   },
   "outputs": [
    {
     "name": "stdout",
     "output_type": "stream",
     "text": [
      "[(1, 0), (2, inf), (3, inf), (4, inf)]\n"
     ]
    },
    {
     "data": {
      "text/plain": [
       "inf"
      ]
     },
     "execution_count": 64,
     "metadata": {},
     "output_type": "execute_result"
    }
   ],
   "source": [
    "from math import inf\n",
    "\n",
    "d = [inf for i in range(nodes)]\n",
    "d[start-1] = 0\n",
    "\n",
    "unseen = [ (i, d[i-1]) for i in range(1, nodes+1) ]\n",
    "seen = []\n",
    "\n",
    "#def find_min(nodes):\n",
    "print(unseen)\n",
    "    \n",
    "\n",
    "min(map(lambda x: x[1], unseen))"
   ]
  },
  {
   "cell_type": "code",
   "execution_count": 67,
   "metadata": {
    "collapsed": false
   },
   "outputs": [
    {
     "name": "stdout",
     "output_type": "stream",
     "text": [
      "0 1\n",
      "1 2\n",
      "2 3\n"
     ]
    }
   ],
   "source": [
    "for i, val in enumerate([1, 2, 3]):\n",
    "    print(i, val)"
   ]
  }
 ],
 "metadata": {
  "kernelspec": {
   "display_name": "Python 3",
   "language": "python",
   "name": "python3"
  },
  "language_info": {
   "codemirror_mode": {
    "name": "ipython",
    "version": 3
   },
   "file_extension": ".py",
   "mimetype": "text/x-python",
   "name": "python",
   "nbconvert_exporter": "python",
   "pygments_lexer": "ipython3",
   "version": "3.5.1"
  }
 },
 "nbformat": 4,
 "nbformat_minor": 0
}
