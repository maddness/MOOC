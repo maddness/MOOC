{
 "cells": [
  {
   "cell_type": "code",
   "execution_count": 1,
   "metadata": {
    "collapsed": false
   },
   "outputs": [],
   "source": [
    "import pyautogui as p\n",
    "\n",
    "position = p.locateOnScreen('vow.png')\n",
    "phrase = 'I certify this submission as my own original work completed in accordance with the Coursera Honor Code'\n",
    "\n",
    "x = position[0] + position[2] / 2\n",
    "y = position[1] + position[3] / 2\n",
    "p.moveTo(x, y, 0.25)\n",
    "p.click()\n",
    "p.typewrite(phrase, 0.05)\n"
   ]
  },
  {
   "cell_type": "code",
   "execution_count": null,
   "metadata": {
    "collapsed": true
   },
   "outputs": [],
   "source": []
  }
 ],
 "metadata": {
  "kernelspec": {
   "display_name": "Python 3",
   "language": "python",
   "name": "python3"
  },
  "language_info": {
   "codemirror_mode": {
    "name": "ipython",
    "version": 3
   },
   "file_extension": ".py",
   "mimetype": "text/x-python",
   "name": "python",
   "nbconvert_exporter": "python",
   "pygments_lexer": "ipython3",
   "version": "3.5.1"
  }
 },
 "nbformat": 4,
 "nbformat_minor": 0
}
