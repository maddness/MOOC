{
 "cells": [
  {
   "cell_type": "code",
   "execution_count": 3,
   "metadata": {
    "collapsed": false
   },
   "outputs": [
    {
     "data": {
      "text/html": [
       "<div>\n",
       "<table border=\"1\" class=\"dataframe\">\n",
       "  <thead>\n",
       "    <tr style=\"text-align: right;\">\n",
       "      <th></th>\n",
       "      <th>true</th>\n",
       "      <th>pred</th>\n",
       "    </tr>\n",
       "  </thead>\n",
       "  <tbody>\n",
       "    <tr>\n",
       "      <th>0</th>\n",
       "      <td>1</td>\n",
       "      <td>0</td>\n",
       "    </tr>\n",
       "    <tr>\n",
       "      <th>1</th>\n",
       "      <td>1</td>\n",
       "      <td>1</td>\n",
       "    </tr>\n",
       "    <tr>\n",
       "      <th>2</th>\n",
       "      <td>1</td>\n",
       "      <td>1</td>\n",
       "    </tr>\n",
       "    <tr>\n",
       "      <th>3</th>\n",
       "      <td>0</td>\n",
       "      <td>0</td>\n",
       "    </tr>\n",
       "    <tr>\n",
       "      <th>4</th>\n",
       "      <td>1</td>\n",
       "      <td>1</td>\n",
       "    </tr>\n",
       "  </tbody>\n",
       "</table>\n",
       "</div>"
      ],
      "text/plain": [
       "   true  pred\n",
       "0     1     0\n",
       "1     1     1\n",
       "2     1     1\n",
       "3     0     0\n",
       "4     1     1"
      ]
     },
     "execution_count": 3,
     "metadata": {},
     "output_type": "execute_result"
    }
   ],
   "source": [
    "import pandas as pd\n",
    "from  sklearn import metrics\n",
    "\n",
    "df = pd.read_csv('classification.csv')\n",
    "\n",
    "df.head()"
   ]
  },
  {
   "cell_type": "code",
   "execution_count": 4,
   "metadata": {
    "collapsed": false
   },
   "outputs": [
    {
     "name": "stdout",
     "output_type": "stream",
     "text": [
      "43 34 59 64\n"
     ]
    }
   ],
   "source": [
    "tp, fn, fp, tn = 0, 0, 0, 0\n",
    "\n",
    "for a, actual, pred in df.to_records():\n",
    "    if actual == pred == 1: tp += 1\n",
    "    if actual == pred == 0: tn += 1\n",
    "    if actual == 0 and pred == 1: fp += 1\n",
    "    if actual == 1 and pred == 0: fn += 1\n",
    "\n",
    "print(tp, fp, fn, tn)\n",
    "        \n",
    "f = open('met_0.txt','w')\n",
    "f.write('43 34 59 64') \n",
    "f.close()"
   ]
  },
  {
   "cell_type": "code",
   "execution_count": 5,
   "metadata": {
    "collapsed": false
   },
   "outputs": [
    {
     "name": "stdout",
     "output_type": "stream",
     "text": [
      "Accuracy:  0.535\n",
      "Precision:  0.558441558442\n",
      "Recall:  0.421568627451\n",
      "F1:  0.480446927374\n"
     ]
    }
   ],
   "source": [
    "print('Accuracy: ', metrics.accuracy_score(df['true'], df['pred']))\n",
    "print('Precision: ', metrics.precision_score(df['true'], df['pred']))\n",
    "print('Recall: ', metrics.recall_score(df['true'], df['pred']))\n",
    "print('F1: ', metrics.f1_score(df['true'], df['pred']))\n",
    "\n",
    "f = open('met_1.txt','w')\n",
    "f.write('0.54 0.56 0.42 0.48') \n",
    "f.close()"
   ]
  },
  {
   "cell_type": "code",
   "execution_count": 6,
   "metadata": {
    "collapsed": false
   },
   "outputs": [
    {
     "name": "stdout",
     "output_type": "stream",
     "text": [
      "Log. reg:  0.71918767507\n",
      "SVM:  0.708683473389\n",
      "kNN:  0.635154061625\n",
      "Tree:  0.691926770708\n"
     ]
    }
   ],
   "source": [
    "data = pd.read_csv('scores.csv')\n",
    "# print(data.head())\n",
    "\n",
    "y = data['true']\n",
    "\n",
    "print('Log. reg: ', metrics.roc_auc_score(y, data['score_logreg']))\n",
    "print('SVM: ', metrics.roc_auc_score(y, data['score_svm']))\n",
    "print('kNN: ', metrics.roc_auc_score(y, data['score_knn']))\n",
    "print('Tree: ', metrics.roc_auc_score(y, data['score_tree']))\n",
    "\n",
    "f = open('met_2.txt','w')\n",
    "f.write('score_logreg') \n",
    "f.close()"
   ]
  },
  {
   "cell_type": "code",
   "execution_count": 27,
   "metadata": {
    "collapsed": false
   },
   "outputs": [
    {
     "name": "stdout",
     "output_type": "stream",
     "text": [
      "Max precision:  0.651785714286\n"
     ]
    }
   ],
   "source": [
    "a = metrics.precision_recall_curve(y, data['score_tree'])\n",
    "df = pd.DataFrame(a[0], columns=['precision'])\n",
    "df['recall'] = pd.Series(a[1])\n",
    "df['thresholds'] = pd.Series(a[2])\n",
    "\n",
    "df = df[df['recall'] > 0.7]\n",
    "\n",
    "print('Max precision: ', df['precision'].max())\n",
    "# precision, recall, thresholds\n",
    "\n",
    "f = open('met_3.txt','w')\n",
    "f.write('score_tree') \n",
    "f.close()"
   ]
  }
 ],
 "metadata": {
  "kernelspec": {
   "display_name": "Python 3",
   "language": "python",
   "name": "python3"
  },
  "language_info": {
   "codemirror_mode": {
    "name": "ipython",
    "version": 3
   },
   "file_extension": ".py",
   "mimetype": "text/x-python",
   "name": "python",
   "nbconvert_exporter": "python",
   "pygments_lexer": "ipython3",
   "version": "3.5.1"
  }
 },
 "nbformat": 4,
 "nbformat_minor": 0
}
