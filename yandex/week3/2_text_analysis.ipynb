{
 "cells": [
  {
   "cell_type": "code",
   "execution_count": 2,
   "metadata": {
    "collapsed": false
   },
   "outputs": [],
   "source": [
    "from sklearn import datasets\n",
    "\n",
    "newsgroups = datasets.fetch_20newsgroups(subset='all', categories=['alt.atheism', 'sci.space'])\n"
   ]
  },
  {
   "cell_type": "code",
   "execution_count": 4,
   "metadata": {
    "collapsed": false
   },
   "outputs": [
    {
     "data": {
      "text/plain": [
       "[mean: 0.55263, std: 0.00067, params: {'C': 0.01},\n",
       " mean: 0.94681, std: 0.00977, params: {'C': 0.1},\n",
       " mean: 0.99104, std: 0.00542, params: {'C': 1},\n",
       " mean: 0.99272, std: 0.00488, params: {'C': 10},\n",
       " mean: 0.99272, std: 0.00488, params: {'C': 100}]"
      ]
     },
     "execution_count": 4,
     "metadata": {},
     "output_type": "execute_result"
    }
   ],
   "source": [
    "from sklearn.feature_extraction.text import TfidfVectorizer\n",
    "from sklearn.svm import SVC\n",
    "from sklearn.cross_validation import KFold\n",
    "\n",
    "vect = TfidfVectorizer()\n",
    "X_vect = vect.fit_transform(newsgroups.data)\n",
    "y = newsgroups.target\n",
    "\n",
    "svr = SVC(random_state=241, kernel='linear')\n",
    "\n",
    "\n",
    "from sklearn.grid_search import GridSearchCV\n",
    "clf = GridSearchCV(estimator=svr, param_grid={'C': [10**i for i in range(-2, 3)]}, cv=5, n_jobs=-1)\n",
    "clf.fit(X_vect, y)\n",
    "\n",
    "clf.grid_scores_\n"
   ]
  },
  {
   "cell_type": "code",
   "execution_count": 8,
   "metadata": {
    "collapsed": false,
    "scrolled": true
   },
   "outputs": [
    {
     "name": "stdout",
     "output_type": "stream",
     "text": [
      "24019    2.720304\n",
      "12871    1.971924\n",
      "5088     1.299935\n",
      "5093     1.257272\n",
      "17802    1.248378\n",
      "23673    1.195954\n",
      "21850    1.155796\n",
      "5776     1.126725\n",
      "15606    1.107114\n",
      "18430    1.089924\n",
      "dtype: float64\n"
     ]
    },
    {
     "data": {
      "text/plain": [
       "'space,god,atheism,atheists,moon,sky,religion,bible,keith,nick'"
      ]
     },
     "execution_count": 8,
     "metadata": {},
     "output_type": "execute_result"
    }
   ],
   "source": [
    "import numpy as np\n",
    "import pandas as pd\n",
    "\n",
    "clf2 = SVC(kernel='linear', C=10, random_state=241)\n",
    "clf2.fit(X_vect, y)\n",
    "\n",
    "coeff = pd.Series(clf2.coef_.toarray()[0])\n",
    "index_list = coeff.abs().sort_values(ascending=False).index[:10]\n",
    "\n",
    "words = []\n",
    "\n",
    "print(coeff.abs().sort_values(ascending=False)[:10])\n",
    "\n",
    "for i in index_list:\n",
    "    words.append(vect.get_feature_names()[i])  \n",
    "    \n",
    "','.join((words))"
   ]
  },
  {
   "cell_type": "code",
   "execution_count": 9,
   "metadata": {
    "collapsed": true
   },
   "outputs": [],
   "source": [
    "f = open('god.txt','w')\n",
    "f.write('atheism,atheists,bible,god,keith,moon,nick,religion,sky,space') \n",
    "f.close()"
   ]
  }
 ],
 "metadata": {
  "kernelspec": {
   "display_name": "Python 3",
   "language": "python",
   "name": "python3"
  },
  "language_info": {
   "codemirror_mode": {
    "name": "ipython",
    "version": 3
   },
   "file_extension": ".py",
   "mimetype": "text/x-python",
   "name": "python",
   "nbconvert_exporter": "python",
   "pygments_lexer": "ipython3",
   "version": "3.5.1"
  }
 },
 "nbformat": 4,
 "nbformat_minor": 0
}
