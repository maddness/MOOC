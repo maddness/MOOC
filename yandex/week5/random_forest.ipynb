{
 "cells": [
  {
   "cell_type": "code",
   "execution_count": 18,
   "metadata": {
    "collapsed": false
   },
   "outputs": [
    {
     "data": {
      "text/html": [
       "<div>\n",
       "<table border=\"1\" class=\"dataframe\">\n",
       "  <thead>\n",
       "    <tr style=\"text-align: right;\">\n",
       "      <th></th>\n",
       "      <th>Sex</th>\n",
       "      <th>Length</th>\n",
       "      <th>Diameter</th>\n",
       "      <th>Height</th>\n",
       "      <th>WholeWeight</th>\n",
       "      <th>ShuckedWeight</th>\n",
       "      <th>VisceraWeight</th>\n",
       "      <th>ShellWeight</th>\n",
       "      <th>Rings</th>\n",
       "    </tr>\n",
       "  </thead>\n",
       "  <tbody>\n",
       "    <tr>\n",
       "      <th>0</th>\n",
       "      <td>M</td>\n",
       "      <td>0.455</td>\n",
       "      <td>0.365</td>\n",
       "      <td>0.095</td>\n",
       "      <td>0.5140</td>\n",
       "      <td>0.2245</td>\n",
       "      <td>0.1010</td>\n",
       "      <td>0.150</td>\n",
       "      <td>15</td>\n",
       "    </tr>\n",
       "    <tr>\n",
       "      <th>1</th>\n",
       "      <td>M</td>\n",
       "      <td>0.350</td>\n",
       "      <td>0.265</td>\n",
       "      <td>0.090</td>\n",
       "      <td>0.2255</td>\n",
       "      <td>0.0995</td>\n",
       "      <td>0.0485</td>\n",
       "      <td>0.070</td>\n",
       "      <td>7</td>\n",
       "    </tr>\n",
       "    <tr>\n",
       "      <th>2</th>\n",
       "      <td>F</td>\n",
       "      <td>0.530</td>\n",
       "      <td>0.420</td>\n",
       "      <td>0.135</td>\n",
       "      <td>0.6770</td>\n",
       "      <td>0.2565</td>\n",
       "      <td>0.1415</td>\n",
       "      <td>0.210</td>\n",
       "      <td>9</td>\n",
       "    </tr>\n",
       "    <tr>\n",
       "      <th>3</th>\n",
       "      <td>M</td>\n",
       "      <td>0.440</td>\n",
       "      <td>0.365</td>\n",
       "      <td>0.125</td>\n",
       "      <td>0.5160</td>\n",
       "      <td>0.2155</td>\n",
       "      <td>0.1140</td>\n",
       "      <td>0.155</td>\n",
       "      <td>10</td>\n",
       "    </tr>\n",
       "    <tr>\n",
       "      <th>4</th>\n",
       "      <td>I</td>\n",
       "      <td>0.330</td>\n",
       "      <td>0.255</td>\n",
       "      <td>0.080</td>\n",
       "      <td>0.2050</td>\n",
       "      <td>0.0895</td>\n",
       "      <td>0.0395</td>\n",
       "      <td>0.055</td>\n",
       "      <td>7</td>\n",
       "    </tr>\n",
       "  </tbody>\n",
       "</table>\n",
       "</div>"
      ],
      "text/plain": [
       "  Sex  Length  Diameter  Height  WholeWeight  ShuckedWeight  VisceraWeight  \\\n",
       "0   M   0.455     0.365   0.095       0.5140         0.2245         0.1010   \n",
       "1   M   0.350     0.265   0.090       0.2255         0.0995         0.0485   \n",
       "2   F   0.530     0.420   0.135       0.6770         0.2565         0.1415   \n",
       "3   M   0.440     0.365   0.125       0.5160         0.2155         0.1140   \n",
       "4   I   0.330     0.255   0.080       0.2050         0.0895         0.0395   \n",
       "\n",
       "   ShellWeight  Rings  \n",
       "0        0.150     15  \n",
       "1        0.070      7  \n",
       "2        0.210      9  \n",
       "3        0.155     10  \n",
       "4        0.055      7  "
      ]
     },
     "execution_count": 18,
     "metadata": {},
     "output_type": "execute_result"
    }
   ],
   "source": [
    "import pandas as pd\n",
    "\n",
    "df = pd.read_csv('abalone.csv')\n",
    "df.head()"
   ]
  },
  {
   "cell_type": "code",
   "execution_count": 19,
   "metadata": {
    "collapsed": false
   },
   "outputs": [
    {
     "data": {
      "text/html": [
       "<div>\n",
       "<table border=\"1\" class=\"dataframe\">\n",
       "  <thead>\n",
       "    <tr style=\"text-align: right;\">\n",
       "      <th></th>\n",
       "      <th>Sex</th>\n",
       "      <th>Length</th>\n",
       "      <th>Diameter</th>\n",
       "      <th>Height</th>\n",
       "      <th>WholeWeight</th>\n",
       "      <th>ShuckedWeight</th>\n",
       "      <th>VisceraWeight</th>\n",
       "      <th>ShellWeight</th>\n",
       "      <th>Rings</th>\n",
       "    </tr>\n",
       "  </thead>\n",
       "  <tbody>\n",
       "    <tr>\n",
       "      <th>0</th>\n",
       "      <td>1</td>\n",
       "      <td>0.455</td>\n",
       "      <td>0.365</td>\n",
       "      <td>0.095</td>\n",
       "      <td>0.5140</td>\n",
       "      <td>0.2245</td>\n",
       "      <td>0.1010</td>\n",
       "      <td>0.150</td>\n",
       "      <td>15</td>\n",
       "    </tr>\n",
       "    <tr>\n",
       "      <th>1</th>\n",
       "      <td>1</td>\n",
       "      <td>0.350</td>\n",
       "      <td>0.265</td>\n",
       "      <td>0.090</td>\n",
       "      <td>0.2255</td>\n",
       "      <td>0.0995</td>\n",
       "      <td>0.0485</td>\n",
       "      <td>0.070</td>\n",
       "      <td>7</td>\n",
       "    </tr>\n",
       "    <tr>\n",
       "      <th>2</th>\n",
       "      <td>-1</td>\n",
       "      <td>0.530</td>\n",
       "      <td>0.420</td>\n",
       "      <td>0.135</td>\n",
       "      <td>0.6770</td>\n",
       "      <td>0.2565</td>\n",
       "      <td>0.1415</td>\n",
       "      <td>0.210</td>\n",
       "      <td>9</td>\n",
       "    </tr>\n",
       "    <tr>\n",
       "      <th>3</th>\n",
       "      <td>1</td>\n",
       "      <td>0.440</td>\n",
       "      <td>0.365</td>\n",
       "      <td>0.125</td>\n",
       "      <td>0.5160</td>\n",
       "      <td>0.2155</td>\n",
       "      <td>0.1140</td>\n",
       "      <td>0.155</td>\n",
       "      <td>10</td>\n",
       "    </tr>\n",
       "    <tr>\n",
       "      <th>4</th>\n",
       "      <td>0</td>\n",
       "      <td>0.330</td>\n",
       "      <td>0.255</td>\n",
       "      <td>0.080</td>\n",
       "      <td>0.2050</td>\n",
       "      <td>0.0895</td>\n",
       "      <td>0.0395</td>\n",
       "      <td>0.055</td>\n",
       "      <td>7</td>\n",
       "    </tr>\n",
       "  </tbody>\n",
       "</table>\n",
       "</div>"
      ],
      "text/plain": [
       "   Sex  Length  Diameter  Height  WholeWeight  ShuckedWeight  VisceraWeight  \\\n",
       "0    1   0.455     0.365   0.095       0.5140         0.2245         0.1010   \n",
       "1    1   0.350     0.265   0.090       0.2255         0.0995         0.0485   \n",
       "2   -1   0.530     0.420   0.135       0.6770         0.2565         0.1415   \n",
       "3    1   0.440     0.365   0.125       0.5160         0.2155         0.1140   \n",
       "4    0   0.330     0.255   0.080       0.2050         0.0895         0.0395   \n",
       "\n",
       "   ShellWeight  Rings  \n",
       "0        0.150     15  \n",
       "1        0.070      7  \n",
       "2        0.210      9  \n",
       "3        0.155     10  \n",
       "4        0.055      7  "
      ]
     },
     "execution_count": 19,
     "metadata": {},
     "output_type": "execute_result"
    }
   ],
   "source": [
    "sex_map = {'F':-1, 'I':0, 'M':1}\n",
    "df.Sex = df.Sex.map(sex_map)\n",
    "\n",
    "df.head()"
   ]
  },
  {
   "cell_type": "code",
   "execution_count": 27,
   "metadata": {
    "collapsed": false
   },
   "outputs": [
    {
     "name": "stdout",
     "output_type": "stream",
     "text": [
      "Fitting 5 folds for each of 50 candidates, totalling 250 fits\n"
     ]
    },
    {
     "name": "stderr",
     "output_type": "stream",
     "text": [
      "[Parallel(n_jobs=-1)]: Done 250 out of 250 | elapsed:   15.9s finished\n"
     ]
    },
    {
     "data": {
      "text/plain": [
       "GridSearchCV(cv=sklearn.cross_validation.KFold(n=4177, n_folds=5, shuffle=True, random_state=1),\n",
       "       error_score='raise',\n",
       "       estimator=RandomForestRegressor(bootstrap=True, criterion='mse', max_depth=None,\n",
       "           max_features='auto', max_leaf_nodes=None, min_samples_leaf=1,\n",
       "           min_samples_split=2, min_weight_fraction_leaf=0.0,\n",
       "           n_estimators=10, n_jobs=1, oob_score=False, random_state=1,\n",
       "           verbose=0, warm_start=False),\n",
       "       fit_params={}, iid=True, n_jobs=-1,\n",
       "       param_grid={'n_estimators': [1, 2, 3, 4, 5, 6, 7, 8, 9, 10, 11, 12, 13, 14, 15, 16, 17, 18, 19, 20, 21, 22, 23, 24, 25, 26, 27, 28, 29, 30, 31, 32, 33, 34, 35, 36, 37, 38, 39, 40, 41, 42, 43, 44, 45, 46, 47, 48, 49, 50]},\n",
       "       pre_dispatch='2*n_jobs', refit=True, scoring='r2', verbose=True)"
      ]
     },
     "execution_count": 27,
     "metadata": {},
     "output_type": "execute_result"
    }
   ],
   "source": [
    "from sklearn.grid_search import GridSearchCV\n",
    "from sklearn.ensemble import RandomForestRegressor\n",
    "from sklearn.cross_validation import KFold\n",
    "\n",
    "clf = RandomForestRegressor(random_state=1)\n",
    "params = {'n_estimators': [i for i in range(1, 51)]}\n",
    "\n",
    "kf = KFold(n=len(df), n_folds=5, random_state=1, shuffle=True)\n",
    "\n",
    "y = df.Rings\n",
    "X = df.drop('Rings', axis=1)\n",
    "\n",
    "grid = GridSearchCV(estimator=clf, param_grid=params, cv=kf, n_jobs=-1, scoring='r2', verbose=True)\n",
    "grid.fit(X, y)"
   ]
  },
  {
   "cell_type": "code",
   "execution_count": 22,
   "metadata": {
    "collapsed": false
   },
   "outputs": [
    {
     "data": {
      "text/plain": [
       "[mean: 0.10216, std: 0.10413, params: {'n_estimators': 1},\n",
       " mean: 0.33841, std: 0.03813, params: {'n_estimators': 2},\n",
       " mean: 0.40358, std: 0.03519, params: {'n_estimators': 3},\n",
       " mean: 0.44272, std: 0.02693, params: {'n_estimators': 4},\n",
       " mean: 0.46402, std: 0.02348, params: {'n_estimators': 5},\n",
       " mean: 0.47058, std: 0.01920, params: {'n_estimators': 6},\n",
       " mean: 0.47583, std: 0.01990, params: {'n_estimators': 7},\n",
       " mean: 0.48174, std: 0.02116, params: {'n_estimators': 8},\n",
       " mean: 0.48834, std: 0.02105, params: {'n_estimators': 9},\n",
       " mean: 0.49446, std: 0.02381, params: {'n_estimators': 10},\n",
       " mean: 0.49339, std: 0.02100, params: {'n_estimators': 11},\n",
       " mean: 0.49796, std: 0.01832, params: {'n_estimators': 12},\n",
       " mean: 0.50213, std: 0.01863, params: {'n_estimators': 13},\n",
       " mean: 0.50642, std: 0.01829, params: {'n_estimators': 14},\n",
       " mean: 0.50833, std: 0.01732, params: {'n_estimators': 15},\n",
       " mean: 0.51051, std: 0.01739, params: {'n_estimators': 16},\n",
       " mean: 0.51385, std: 0.01759, params: {'n_estimators': 17},\n",
       " mean: 0.51632, std: 0.01770, params: {'n_estimators': 18},\n",
       " mean: 0.51903, std: 0.01812, params: {'n_estimators': 19},\n",
       " mean: 0.51867, std: 0.01766, params: {'n_estimators': 20},\n",
       " mean: 0.51983, std: 0.01894, params: {'n_estimators': 21},\n",
       " mean: 0.52016, std: 0.01725, params: {'n_estimators': 22},\n",
       " mean: 0.52102, std: 0.01828, params: {'n_estimators': 23},\n",
       " mean: 0.52240, std: 0.01961, params: {'n_estimators': 24},\n",
       " mean: 0.52262, std: 0.01967, params: {'n_estimators': 25},\n",
       " mean: 0.52380, std: 0.01918, params: {'n_estimators': 26},\n",
       " mean: 0.52412, std: 0.01956, params: {'n_estimators': 27},\n",
       " mean: 0.52505, std: 0.01933, params: {'n_estimators': 28},\n",
       " mean: 0.52597, std: 0.01986, params: {'n_estimators': 29},\n",
       " mean: 0.52653, std: 0.01937, params: {'n_estimators': 30},\n",
       " mean: 0.52710, std: 0.01969, params: {'n_estimators': 31},\n",
       " mean: 0.52839, std: 0.01935, params: {'n_estimators': 32},\n",
       " mean: 0.52961, std: 0.01921, params: {'n_estimators': 33},\n",
       " mean: 0.52956, std: 0.01945, params: {'n_estimators': 34},\n",
       " mean: 0.52951, std: 0.01927, params: {'n_estimators': 35},\n",
       " mean: 0.52960, std: 0.01901, params: {'n_estimators': 36},\n",
       " mean: 0.52913, std: 0.01929, params: {'n_estimators': 37},\n",
       " mean: 0.52916, std: 0.01978, params: {'n_estimators': 38},\n",
       " mean: 0.52924, std: 0.02011, params: {'n_estimators': 39},\n",
       " mean: 0.52906, std: 0.01922, params: {'n_estimators': 40},\n",
       " mean: 0.52934, std: 0.02043, params: {'n_estimators': 41},\n",
       " mean: 0.52957, std: 0.02026, params: {'n_estimators': 42},\n",
       " mean: 0.52937, std: 0.01998, params: {'n_estimators': 43},\n",
       " mean: 0.52912, std: 0.02031, params: {'n_estimators': 44},\n",
       " mean: 0.52837, std: 0.02010, params: {'n_estimators': 45},\n",
       " mean: 0.52852, std: 0.02055, params: {'n_estimators': 46},\n",
       " mean: 0.52870, std: 0.02068, params: {'n_estimators': 47},\n",
       " mean: 0.52961, std: 0.02033, params: {'n_estimators': 48},\n",
       " mean: 0.53039, std: 0.01981, params: {'n_estimators': 49},\n",
       " mean: 0.53059, std: 0.02034, params: {'n_estimators': 50}]"
      ]
     },
     "execution_count": 22,
     "metadata": {},
     "output_type": "execute_result"
    }
   ],
   "source": [
    "grid.grid_scores_"
   ]
  },
  {
   "cell_type": "code",
   "execution_count": 23,
   "metadata": {
    "collapsed": false
   },
   "outputs": [
    {
     "data": {
      "text/plain": [
       "0.90498612463679673"
      ]
     },
     "execution_count": 23,
     "metadata": {},
     "output_type": "execute_result"
    }
   ],
   "source": [
    "from sklearn.metrics import r2_score\n",
    "\n",
    "clf2 = RandomForestRegressor(random_state=1, n_estimators=7)\n",
    "clf2.fit(X, y)\n",
    "pred = clf2.predict(X)\n",
    "\n",
    "r2_score(y, pred)"
   ]
  },
  {
   "cell_type": "code",
   "execution_count": 24,
   "metadata": {
    "collapsed": true
   },
   "outputs": [],
   "source": [
    "f = open('1.txt','w')\n",
    "f.write('22') \n",
    "f.close()"
   ]
  }
 ],
 "metadata": {
  "kernelspec": {
   "display_name": "Python 3",
   "language": "python",
   "name": "python3"
  },
  "language_info": {
   "codemirror_mode": {
    "name": "ipython",
    "version": 3
   },
   "file_extension": ".py",
   "mimetype": "text/x-python",
   "name": "python",
   "nbconvert_exporter": "python",
   "pygments_lexer": "ipython3",
   "version": "3.5.1"
  }
 },
 "nbformat": 4,
 "nbformat_minor": 0
}
