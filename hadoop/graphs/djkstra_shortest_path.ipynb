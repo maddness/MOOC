{
 "cells": [
  {
   "cell_type": "code",
   "execution_count": 96,
   "metadata": {
    "collapsed": false
   },
   "outputs": [
    {
     "name": "stdout",
     "output_type": "stream",
     "text": [
      "8\n"
     ]
    }
   ],
   "source": [
    "from sys import stdin\n",
    "\n",
    "def to_int(vals):\n",
    "    return map(lambda x: int(x), vals)\n",
    "\n",
    "\n",
    "def add_to_list(a, b, weight):\n",
    "    if a not in adj_list:\n",
    "        adj_list[a] = [(b, weight)]\n",
    "    else:\n",
    "        adj_list[a].append((b, weight))\n",
    "       \n",
    "       \n",
    "def get_min_from(alist):\n",
    "    min_weight = 9999999\n",
    "    min_index = None\n",
    "    for i in alist:\n",
    "        if d[i-1] < min_weight:\n",
    "            min_weight = d[i-1]\n",
    "            min_index = i            \n",
    "    return min_index, min_weight        \n",
    "        \n",
    "    \n",
    "# ====== Main =======            \n",
    "\n",
    "adj_list = {}\n",
    "\n",
    "for index, line in enumerate(open('input.txt')):    \n",
    "    data = line.split()\n",
    "    if index == 0:\n",
    "        (nodes, edges) = to_int(data)\n",
    "        continue\n",
    "        \n",
    "    elif len(data) == 3:\n",
    "        (a, b, weight) = to_int(data)\n",
    "        add_to_list(a, b, weight)        \n",
    "        \n",
    "    else:\n",
    "        (start, finish) = to_int(data)\n",
    "        \n",
    "d = [9999999 for i in range(nodes)]\n",
    "d[start-1] = 0\n",
    "\n",
    "unseen = [ i+1 for i in range(nodes)]\n",
    "\n",
    "while len(unseen) != 0 and get_min_from(unseen)[1] != 9999999:    \n",
    "    # pick a vertice with min path in 'unseen'\n",
    "    min_node, min_node_weight = get_min_from(unseen) \n",
    "    unseen.remove(min_node)\n",
    "    \n",
    "    # go over its each edge which are in 'unseen'\n",
    "    if min_node in adj_list:\n",
    "        nodes = adj_list[min_node]\n",
    "        for (node, weight) in nodes:\n",
    "            if node in unseen:\n",
    "            \n",
    "                # update path for node if it's smaller\n",
    "                if min_node_weight + weight < d[node-1]:\n",
    "                    d[node-1] = min_node_weight + weight\n",
    "                    \n",
    "            \n",
    "    # change node's weight\n",
    "    d[min_node-1] = min_node_weight\n",
    "    \n",
    "print(d[finish-1] if d[finish-1] != 9999999 else -1)      \n"
   ]
  },
  {
   "cell_type": "code",
   "execution_count": 95,
   "metadata": {
    "collapsed": false
   },
   "outputs": [
    {
     "name": "stdout",
     "output_type": "stream",
     "text": [
      "d - [0, 7, 4, 8, 6]\n",
      "unseen - []\n",
      "weights - {1: [(3, 4)], 2: [(4, 1)], 3: [(2, 3), (5, 2)], 5: [(4, 6)]}\n"
     ]
    }
   ],
   "source": [
    "print('d -', d)\n",
    "print('unseen -', unseen)\n",
    "print('weights -', adj_list) "
   ]
  }
 ],
 "metadata": {
  "kernelspec": {
   "display_name": "Python 3",
   "language": "python",
   "name": "python3"
  },
  "language_info": {
   "codemirror_mode": {
    "name": "ipython",
    "version": 3
   },
   "file_extension": ".py",
   "mimetype": "text/x-python",
   "name": "python",
   "nbconvert_exporter": "python",
   "pygments_lexer": "ipython3",
   "version": "3.5.1"
  }
 },
 "nbformat": 4,
 "nbformat_minor": 0
}
