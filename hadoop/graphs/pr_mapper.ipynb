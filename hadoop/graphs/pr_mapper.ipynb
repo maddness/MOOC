{
 "cells": [
  {
   "cell_type": "code",
   "execution_count": 5,
   "metadata": {
    "collapsed": false
   },
   "outputs": [
    {
     "name": "stdout",
     "output_type": "stream",
     "text": [
      "1\t0.200\t{2,4}\n",
      "2\t0.100\t{}\n",
      "4\t0.100\t{}\n",
      "2\t0.200\t{3,5}\n",
      "3\t0.100\t{}\n",
      "5\t0.100\t{}\n",
      "3\t0.200\t{4}\n",
      "4\t0.200\t{}\n",
      "4\t0.200\t{5}\n",
      "5\t0.200\t{}\n",
      "5\t0.200\t{1,2,3}\n",
      "1\t0.067\t{}\n",
      "2\t0.067\t{}\n",
      "3\t0.067\t{}\n"
     ]
    }
   ],
   "source": [
    "import re, sys\n",
    "\n",
    "for line in open('pr_map.txt'):\n",
    "    line = line.replace('\\n', '')\n",
    "    print(line)\n",
    "    \n",
    "    values = line.split('\\t')    \n",
    "    key, pr = int(values[0]), float(values[1])\n",
    "    nodes = re.findall(r'\\d+', values[2])\n",
    "    \n",
    "    for node in nodes:\n",
    "        print('{}\\t{}\\t{}'.format(node, \"%.3f\" % round(pr/len(nodes), 3), '{}'))\n",
    "    \n",
    "    "
   ]
  }
 ],
 "metadata": {
  "kernelspec": {
   "display_name": "Python 3",
   "language": "python",
   "name": "python3"
  },
  "language_info": {
   "codemirror_mode": {
    "name": "ipython",
    "version": 3
   },
   "file_extension": ".py",
   "mimetype": "text/x-python",
   "name": "python",
   "nbconvert_exporter": "python",
   "pygments_lexer": "ipython3",
   "version": "3.5.1"
  }
 },
 "nbformat": 4,
 "nbformat_minor": 0
}
