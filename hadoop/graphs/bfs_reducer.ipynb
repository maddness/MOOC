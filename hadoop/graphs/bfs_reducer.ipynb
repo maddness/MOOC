{
 "cells": [
  {
   "cell_type": "code",
   "execution_count": 21,
   "metadata": {
    "collapsed": false
   },
   "outputs": [
    {
     "name": "stdout",
     "output_type": "stream",
     "text": [
      "1\t0\t{2,3,4}\n",
      "10\tINF\t{}\n",
      "2\t1\t{5,6}\n",
      "3\t1\t{}\n",
      "4\t1\t{7,8}\n",
      "5\t2\t{9,10}\n",
      "6\t2\t{}\n",
      "7\t2\t{}\n",
      "8\t2\t{}\n",
      "9\tINF\t{}\n"
     ]
    }
   ],
   "source": [
    "import re\n",
    "\n",
    "last_key = None\n",
    "graph_state = '{}'\n",
    "min_dist = 2**99\n",
    "\n",
    "for line in open('bfs_reduce.txt'):\n",
    "    line = line.replace('\\n', '')\n",
    "    \n",
    "    values = line.split('\\t')\n",
    "    key, nodes = int(values[0]), values[2]\n",
    "    dist = 2**99 if values[1] == 'INF' else int(values[1])\n",
    "    \n",
    "    if last_key == None:  last_key = key\n",
    "        \n",
    "    if key == last_key:\n",
    "        if nodes != '{}': graph_state = nodes\n",
    "        min_dist = min(min_dist, dist) \n",
    "            \n",
    "    if key != last_key:\n",
    "        print('{}\\t{}\\t{}'.format(last_key, 'INF' if min_dist == 2**99 else min_dist, graph_state))\n",
    "        \n",
    "        last_key = key\n",
    "        graph_state = '{}'\n",
    "        min_dist = 2**99\n",
    "        \n",
    "        if nodes != '{}': graph_state = nodes\n",
    "        else:  min_dist = min(min_dist, dist)\n",
    "            \n",
    "            \n",
    "if last_key:\n",
    "    print('{}\\t{}\\t{}'.format(last_key, 'INF' if min_dist == 2**99 else min_dist, graph_state)) \n",
    "    \n"
   ]
  }
 ],
 "metadata": {
  "kernelspec": {
   "display_name": "Python 3",
   "language": "python",
   "name": "python3"
  },
  "language_info": {
   "codemirror_mode": {
    "name": "ipython",
    "version": 3
   },
   "file_extension": ".py",
   "mimetype": "text/x-python",
   "name": "python",
   "nbconvert_exporter": "python",
   "pygments_lexer": "ipython3",
   "version": "3.5.1"
  }
 },
 "nbformat": 4,
 "nbformat_minor": 0
}
