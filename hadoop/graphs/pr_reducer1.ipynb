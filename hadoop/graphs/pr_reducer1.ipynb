{
 "cells": [
  {
   "cell_type": "code",
   "execution_count": 5,
   "metadata": {
    "collapsed": false
   },
   "outputs": [
    {
     "name": "stdout",
     "output_type": "stream",
     "text": [
      "1\t0.067\t{2,4}\n",
      "2\t0.167\t{3,5}\n",
      "3\t0.167\t{4}\n",
      "4\t0.300\t{5}\n",
      "5\t0.300\t{1,2,3}\n"
     ]
    }
   ],
   "source": [
    "from sys import stdin\n",
    "\n",
    "last_key = None\n",
    "last_nodes = '{}'\n",
    "pr_sum = 0\n",
    "\n",
    "for line in open('data/pr_reduce1.txt'):\n",
    "    line = line.replace('\\n', '')    \n",
    "    values = line.split('\\t')        \n",
    "    key, pr, nodes = int(values[0]), float(values[1]), values[2]\n",
    "    \n",
    "    if last_key == None: last_key = key\n",
    "        \n",
    "    if last_key == key:\n",
    "        if nodes != '{}': last_nodes = nodes\n",
    "        else: pr_sum += pr\n",
    "        \n",
    "    if last_key != key:\n",
    "        print('{}\\t{}\\t{}'.format(last_key, \"%.3f\" % round(pr_sum, 3), last_nodes))\n",
    "        \n",
    "        last_key = key\n",
    "        last_nodes = '{}'\n",
    "        pr_sum = 0\n",
    "        \n",
    "        if nodes != '{}': last_nodes = nodes\n",
    "        else: pr_sum += pr\n",
    "            \n",
    "if last_key:\n",
    "    print('{}\\t{}\\t{}'.format(last_key, \"%.3f\" % round(pr_sum, 3), last_nodes))          \n",
    "    \n",
    "    \n",
    "    \n",
    "    "
   ]
  },
  {
   "cell_type": "code",
   "execution_count": 2,
   "metadata": {
    "collapsed": false
   },
   "outputs": [
    {
     "data": {
      "text/plain": [
       "0"
      ]
     },
     "execution_count": 2,
     "metadata": {},
     "output_type": "execute_result"
    }
   ],
   "source": [
    "a = 4\n",
    "\n",
    "b = a + 3 if a < 3 else 0\n",
    "b"
   ]
  }
 ],
 "metadata": {
  "kernelspec": {
   "display_name": "Python 3",
   "language": "python",
   "name": "python3"
  },
  "language_info": {
   "codemirror_mode": {
    "name": "ipython",
    "version": 3
   },
   "file_extension": ".py",
   "mimetype": "text/x-python",
   "name": "python",
   "nbconvert_exporter": "python",
   "pygments_lexer": "ipython3",
   "version": "3.5.1"
  }
 },
 "nbformat": 4,
 "nbformat_minor": 0
}
